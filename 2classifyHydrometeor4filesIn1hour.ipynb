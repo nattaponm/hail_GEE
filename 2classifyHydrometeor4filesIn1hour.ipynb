{
 "cells": [
  {
   "cell_type": "markdown",
   "id": "3aa9c5d8",
   "metadata": {},
   "source": [
    "# Classify hydrometerors 4 files in one hour\n",
    "* activate pyart\n",
    "* using simulate sounding at 0000 UTC or 0700 LST froom ERA5\n",
    "* main code from CSU tool https://github.com/openradar/AMS-Short-Course-on-Open-Source-Radar-Software/blob/master/9a_CSU_RadarTools_Demo-AMS_OSRSC.ipynb\n"
   ]
  },
  {
   "cell_type": "code",
   "execution_count": 1,
   "id": "2db90c70",
   "metadata": {},
   "outputs": [
    {
     "name": "stdout",
     "output_type": "stream",
     "text": [
      "\n",
      "## You are using the Python ARM Radar Toolkit (Py-ART), an open source\n",
      "## library for working with weather radar data. Py-ART is partly\n",
      "## supported by the U.S. Department of Energy as part of the Atmospheric\n",
      "## Radiation Measurement (ARM) Climate Research Facility, an Office of\n",
      "## Science user facility.\n",
      "##\n",
      "## If you use this software to prepare a publication, please cite:\n",
      "##\n",
      "##     JJ Helmus and SM Collis, JORS 2016, doi: 10.5334/jors.119\n",
      "\n"
     ]
    },
    {
     "name": "stderr",
     "output_type": "stream",
     "text": [
      "<frozen importlib._bootstrap>:283: DeprecationWarning: the load_module() method is deprecated and slated for removal in Python 3.12; use exec_module() instead\n",
      "C:\\Users\\Admin\\anaconda3\\envs\\pyart\\lib\\site-packages\\mpl_toolkits\\basemap\\__init__.py:33: DeprecationWarning: distutils Version classes are deprecated. Use packaging.version instead.\n",
      "  _matplotlib_version = LooseVersion(_matplotlib_version)\n",
      "C:\\Users\\Admin\\anaconda3\\envs\\pyart\\lib\\site-packages\\mpl_toolkits\\basemap\\__init__.py:34: DeprecationWarning: distutils Version classes are deprecated. Use packaging.version instead.\n",
      "  _mpl_required_version = LooseVersion('0.98')\n",
      "C:\\Users\\Admin\\anaconda3\\envs\\pyart\\lib\\site-packages\\csu_radartools-1.3.0.dev0-py3.10-win-amd64.egg\\csu_radartools\\csu_misc.py:18: DeprecationWarning: Please use `label` from the `scipy.ndimage` namespace, the `scipy.ndimage.measurements` namespace is deprecated.\n",
      "  from scipy.ndimage.measurements import label\n"
     ]
    }
   ],
   "source": [
    "import numpy as np\n",
    "import cartopy.crs as ccrs\n",
    "import cartopy\n",
    "import matplotlib.pyplot as plt\n",
    "import pyart\n",
    "\n",
    "\n",
    "from __future__ import print_function\n",
    "import matplotlib.colors as colors\n",
    "import glob\n",
    "from pyart.core.transforms import antenna_to_cartesian as radar_coords_to_cart # มันเปลี่ยนที่อยู่ไปเก็บไว้ที่ core C:\\Users\\Admin\\anaconda3\\envs\\pyart\\Lib\\site-packages\\pyart\\core\n",
    "from skewt import SkewT \n",
    "from csu_radartools import (csu_fhc, csu_liquid_ice_mass, csu_blended_rain, \n",
    "                            csu_dsd, csu_kdp, csu_misc)\n",
    "%matplotlib inline"
   ]
  },
  {
   "cell_type": "markdown",
   "id": "b97c4d1a",
   "metadata": {},
   "source": [
    "## input radar uf files"
   ]
  },
  {
   "cell_type": "code",
   "execution_count": 2,
   "id": "69a614fe",
   "metadata": {},
   "outputs": [],
   "source": [
    "files = ['./0data/0Hail_CRI23Apr2020/CRI240@202004231200.uf', './0data/0Hail_CRI23Apr2020/CRI240@202004231215.uf', './0data/0Hail_CRI23Apr2020/CRI240@202004231230.uf','./0data/0Hail_CRI23Apr2020/CRI240@202004231245.uf']\n",
    "#files = ['./0data/0Hail_CRI23Apr2020/CRI240@202004231100.uf', './0data/0Hail_CRI23Apr2020/CRI240@202004231115.uf', './0data/0Hail_CRI23Apr2020/CRI240@202004231130.uf','./0data/0Hail_CRI23Apr2020/CRI240@202004231145.uf']\n",
    "#files = ['./0data/0Hail_CRI23Apr2020/CRI240@202004231300.uf', './0data/0Hail_CRI23Apr2020/CRI240@202004231315.uf', './0data/0Hail_CRI23Apr2020/CRI240@202004231330.uf','./0data/0Hail_CRI23Apr2020/CRI240@202004231345.uf']\n",
    "#files = ['./0data/0Hail_CRI23Apr2020/CRI240@202004231400.uf', './0data/0Hail_CRI23Apr2020/CRI240@202004231415.uf', './0data/0Hail_CRI23Apr2020/CRI240@202004231430.uf','./0data/0Hail_CRI23Apr2020/CRI240@202004231445.uf']\n",
    "#files = ['./0data/0Hail_CRI23Apr2020/CRI240@202004231000.uf', './0data/0Hail_CRI23Apr2020/CRI240@202004231015.uf', './0data/0Hail_CRI23Apr2020/CRI240@202004231030.uf','./0data/0Hail_CRI23Apr2020/CRI240@202004231045.uf']"
   ]
  },
  {
   "cell_type": "markdown",
   "id": "2400267a",
   "metadata": {},
   "source": [
    "## preprocessing functions"
   ]
  },
  {
   "cell_type": "code",
   "execution_count": 3,
   "id": "67ba2476",
   "metadata": {},
   "outputs": [],
   "source": [
    "#ประมวลผลข้อมูลเรดาร์โมเม้น ก่อนนำไปจำแนกชนิดหยาดน้ำฟ้า\n",
    "def preprocess_radar_moments(radar):\n",
    "    #กรองสัญญาณรบกวน ด้วยการใช้ SNR ใช้ gatefilter\n",
    "    print('...>>>กรองสัญญาณรบกวน ด้วยการใช้ SNR ใช้ gatefilter...')\n",
    "    snr = pyart.retrieve.calculate_snr_from_reflectivity(radar, refl_field='reflectivity',toa=15000.0) #15000 ทดลองเอง\n",
    "    radar.add_field('signal_to_noise_ratio', snr, replace_existing=True)\n",
    "    gtfilter = pyart.filters.moment_and_texture_based_gate_filter(radar, phi_field='differential_phase')\n",
    "    gtfilter.exclude_below('signal_to_noise_ratio', 10) #ใช้ค่า snr  = 10 \n",
    "    nf = radar.fields['corrected_reflectivity']\n",
    "    nf['data'] = np.ma.masked_where(gtfilter.gate_excluded , nf['data'])\n",
    "    radar.add_field('filtered_refectivity', nf, replace_existing=True)\n",
    "    \n",
    "    #ปรับแก้ค่า differential phase fields\n",
    "    print('...>>>ปรับแก้ค่า differential phase fields...')\n",
    "    ncp_values = np.ones((radar.nrays, radar.ngates))\n",
    "    ncp = pyart.config.get_metadata('normalized_coherent_power')\n",
    "    ncp['data'] = ncp_values\n",
    "    radar.add_field('normalized_coherent_power', ncp)\n",
    "    # ประมาณค่า KDP\n",
    "    kdp, _, _ = pyart.retrieve.kdp_maesaka(radar, gatefilter = gtfilter,\n",
    "                                       psidp_field = 'differential_phase')\n",
    "    radar.add_field('cal_specific_differential_phase', kdp, replace_existing=True)\n",
    "    \n",
    "    #ปรับแก้ค่า differential phase fields\n",
    "    print('...>>>ปรับแก้ค่า differential phase fields...')\n",
    "    phidp_corr, kdp_corr = pyart.correct.phase_proc_lp(radar, -2.0, self_const=60000.0, low_z=10.0,\n",
    "                                     high_z=53.0, min_phidp=0.01, min_ncp=0.5,\n",
    "                                     min_rhv=0.8, fzl=3900.0, overide_sys_phase=False,\n",
    "                                     nowrap=291, LP_solver='pyglpk', window_len=35,\n",
    "                                    proc=6, debug=False, really_verbose=False)\n",
    "    radar.add_field('proc_dp_phase_shift', phidp_corr, replace_existing=True)\n",
    "    radar.add_field('recalculated_diff_phase', kdp_corr, replace_existing=True)\n",
    "    \n",
    "    #ปรับแก้ attenuation correction of reflectivity\n",
    "    print('...>>>ปรับแก้ attenuation correction of reflectivity...')\n",
    "    spec_at, cor_z = pyart.correct.calculate_attenuation(\n",
    "    radar, 0, refl_field='filtered_refectivity',\n",
    "    ncp_field='normalized_coherent_power', rhv_field='cross_correlation_ratio',\n",
    "    phidp_field='proc_dp_phase_shift')\n",
    "    radar.add_field('specific_attenuation', spec_at)\n",
    "    radar.add_field('corrected_reflectivity_horizontal', cor_z)\n",
    "    \n",
    "    return radar"
   ]
  },
  {
   "cell_type": "code",
   "execution_count": 4,
   "id": "84a3a161",
   "metadata": {},
   "outputs": [],
   "source": [
    "def get_z_from_radar(radar):\n",
    "    \"\"\"Input radar object, return z from radar (km, 2D)\"\"\"\n",
    "    azimuth_1D = radar.azimuth['data']\n",
    "    elevation_1D = radar.elevation['data']\n",
    "    srange_1D = radar.range['data']\n",
    "    sr_2d, az_2d = np.meshgrid(srange_1D, azimuth_1D)\n",
    "    el_2d = np.meshgrid(srange_1D, elevation_1D)[1]\n",
    "    xx, yy, zz = radar_coords_to_cart(sr_2d/1000.0, az_2d, el_2d)\n",
    "    return zz + radar.altitude['data']\n",
    "\n",
    "\n",
    "def check_sounding_for_montonic(sounding):\n",
    "    \"\"\"\n",
    "    So the sounding interpolation doesn't fail, force the sounding to behave\n",
    "    monotonically so that z always increases. This eliminates data from\n",
    "    descending balloons.\n",
    "    \"\"\"\n",
    "    snd_T = sounding.soundingdata['temp']  # In old SkewT, was sounding.data\n",
    "    snd_z = sounding.soundingdata['hght']  # In old SkewT, was sounding.data\n",
    "    \n",
    "    #snd_T = sounding.soundingdata['TEMP']  # In old SkewT, was sounding.data\n",
    "    #snd_z = sounding.soundingdata['HGHT']  # In old SkewT, was sounding.data\n",
    "    dummy_z = []\n",
    "    dummy_T = []\n",
    "    if not snd_T.mask[0]:  # May cause issue for specific soundings\n",
    "        dummy_z.append(snd_z[0])\n",
    "        dummy_T.append(snd_T[0])\n",
    "        for i, height in enumerate(snd_z):\n",
    "            if i > 0:\n",
    "                if snd_z[i] > snd_z[i-1] and not snd_T.mask[i]:\n",
    "                    dummy_z.append(snd_z[i])\n",
    "                    dummy_T.append(snd_T[i])\n",
    "        snd_z = np.array(dummy_z)\n",
    "        snd_T = np.array(dummy_T)\n",
    "    return snd_T, snd_z\n",
    "\n",
    "\n",
    "def interpolate_sounding_to_radar(sounding, radar):\n",
    "    \"\"\"Takes sounding data and interpolates it to every radar gate.\"\"\"\n",
    "    radar_z = get_z_from_radar(radar)\n",
    "    radar_T = None\n",
    "    snd_T, snd_z = check_sounding_for_montonic(sounding)\n",
    "    shape = np.shape(radar_z)\n",
    "    rad_z1d = radar_z.ravel()\n",
    "    rad_T1d = np.interp(rad_z1d, snd_z, snd_T)\n",
    "    return np.reshape(rad_T1d, shape), radar_z\n",
    "\n",
    "def add_field_to_radar_object(field, radar, field_name='FH', units='unitless', \n",
    "                              long_name='Hydrometeor ID', standard_name='Hydrometeor ID',\n",
    "                              dz_field='corrected_reflectivity'):\n",
    "    \"\"\"\n",
    "    Adds a newly created field to the Py-ART radar object. If reflectivity is a masked array,\n",
    "    make the new field masked the same as reflectivity.\n",
    "    \"\"\"\n",
    "    fill_value = -32768\n",
    "    masked_field = np.ma.asanyarray(field)\n",
    "    masked_field.mask = masked_field == fill_value\n",
    "    if hasattr(radar.fields[dz_field]['data'], 'mask'):\n",
    "        setattr(masked_field, 'mask', \n",
    "                np.logical_or(masked_field.mask, radar.fields[dz_field]['data'].mask))\n",
    "        fill_value = radar.fields[dz_field]['_FillValue']\n",
    "    field_dict = {'data': masked_field,\n",
    "                  'units': units,\n",
    "                  'long_name': long_name,\n",
    "                  'standard_name': standard_name,\n",
    "                  '_FillValue': fill_value}\n",
    "    radar.add_field(field_name, field_dict, replace_existing=True)\n",
    "    return radar"
   ]
  },
  {
   "cell_type": "code",
   "execution_count": 5,
   "id": "4434e4b1",
   "metadata": {},
   "outputs": [],
   "source": [
    "# ฟังก์ชัน สำหรับพลอตภาพการจำแนกหยาดน้ำฟ้า\n",
    "hid_colors = ['White', 'LightBlue', 'MediumBlue', 'DarkOrange', 'LightPink',\n",
    "              'Cyan', 'DarkGray', 'Lime', 'Yellow', 'Red', 'Fuchsia']\n",
    "cmaphid = colors.ListedColormap(hid_colors)\n",
    "cmapmeth = colors.ListedColormap(hid_colors[0:6])\n",
    "cmapmeth_trop = colors.ListedColormap(hid_colors[0:7])\n",
    "\n",
    "def adjust_fhc_colorbar_for_pyart(cb):\n",
    "    cb.set_ticks(np.arange(1.4, 10, 0.9))\n",
    "    cb.ax.set_yticklabels(['Drizzle', 'Rain', 'Ice Crystals', 'Aggregates',\n",
    "                           'Wet Snow', 'Vertical Ice', 'LD Graupel',\n",
    "                           'HD Graupel', 'Hail', 'Big Drops'])\n",
    "    cb.ax.set_ylabel('')\n",
    "    cb.ax.tick_params(length=0)\n",
    "    return cb\n",
    "\n",
    "def adjust_meth_colorbar_for_pyart(cb, tropical=False):\n",
    "    if not tropical:\n",
    "        cb.set_ticks(np.arange(1.25, 5, 0.833))\n",
    "        cb.ax.set_yticklabels(['R(Kdp, Zdr)', 'R(Kdp)', 'R(Z, Zdr)', 'R(Z)', 'R(Zrain)'])\n",
    "    else:\n",
    "        cb.set_ticks(np.arange(1.3, 6, 0.85))\n",
    "        cb.ax.set_yticklabels(['R(Kdp, Zdr)', 'R(Kdp)', 'R(Z, Zdr)', 'R(Z_all)', 'R(Z_c)', 'R(Z_s)'])\n",
    "    cb.ax.set_ylabel('')\n",
    "    cb.ax.tick_params(length=0)\n",
    "    return cb"
   ]
  },
  {
   "cell_type": "code",
   "execution_count": 6,
   "id": "3200407d",
   "metadata": {},
   "outputs": [],
   "source": [
    "# ฟังก์ชั่นสร้างกริด 3 D หรือ gridding แล้ว export ผลการจำแนกไปสู่ Geotif\n",
    "# ''FH คือ ตัวแปร หรือ โมเม้นท์ที่ต้องการทำ CAPPI แล้วต้องการส่งออกไปสู่ Geotif สามารถเลือกค่า reflectivity ก็ได้\n",
    "def gridding_export_cappi_geotif(radar,fn):\n",
    "    print('...>>>สร้างกริด 3 D หรือ gridding แล้ว export ผลการจำแนกไปสู่ Geotif...')\n",
    "    # We can create a Grid object from a Radar object by using pyart.map.grid_from_radars()\n",
    "    # Grid shape is the amount of points within a dimension. Grid limits is the dimension limits\n",
    "    # in meters.\n",
    "    grid = pyart.map.grid_from_radars(\n",
    "        radar,\n",
    "        grid_shape=(41, 201, 201),\n",
    "        grid_limits=(\n",
    "            (\n",
    "                0.0,\n",
    "                20000,\n",
    "            ),\n",
    "            (-100000.0, 100000.0),\n",
    "            (-100000, 100000.0),\n",
    "        ),\n",
    "    )\n",
    "    \n",
    "    # level = 4 คือระดับความสูงเท่ากับ 2 กิโลเมตร หรือ CAPPI\n",
    "    pyart.io.write_grid_geotiff(grid, fn, 'FH', rgb=False, level=4, \n",
    "                                cmap=cmaphid, vmin=0, vmax=10, color_levels=10, \n",
    "                                warp=True, sld=False, use_doublequotes=True)\n",
    "    "
   ]
  },
  {
   "cell_type": "code",
   "execution_count": 7,
   "id": "e9820735",
   "metadata": {},
   "outputs": [],
   "source": [
    "# ฟังชั่นจำแนกชนิดหยาดน้ำฟ้า HID/HCA และ สร้าง CAPPI ส่งออกไปเป็น geotif\n",
    "\n",
    "def classify_precipitation(radar, sndfile,fn):\n",
    "    \n",
    "    print('...>>>จำแนกชนิดหยาดน้ำฟ้า HID/HCA...')\n",
    "    sounding = SkewT.Sounding(sndfile)\n",
    "    \n",
    "    dz = radar.fields['corrected_reflectivity_horizontal']['data']\n",
    "    dr = radar.fields['corrected_differential_reflectivity']['data']\n",
    "    kd = radar.fields['recalculated_diff_phase']['data']\n",
    "    rh = radar.fields['cross_correlation_ratio']['data']\n",
    "    \n",
    "    radar_T, radar_z = interpolate_sounding_to_radar(sounding, radar)\n",
    "    \n",
    "    scores = csu_fhc.csu_fhc_summer(dz=dz, zdr=dr, rho=rh, kdp=kd, use_temp=True, band='C',\n",
    "                                T=radar_T)\n",
    "    fh = np.argmax(scores, axis=0) + 1\n",
    "    \n",
    "    radar = add_field_to_radar_object(scores, radar)\n",
    "    \n",
    "    #สร้างกริด 3 D หรือ gridding แล้ว export ผลการจำแนกไปสู่ Geotif\n",
    "    gridding_export_cappi_geotif(radar,fn)    \n"
   ]
  },
  {
   "cell_type": "markdown",
   "id": "75722e05",
   "metadata": {},
   "source": [
    "## main computing program\n"
   ]
  },
  {
   "cell_type": "code",
   "execution_count": 8,
   "id": "913b1348",
   "metadata": {},
   "outputs": [
    {
     "name": "stdout",
     "output_type": "stream",
     "text": [
      "0 ...> processing ..... ./0data/0Hail_CRI23Apr2020/CRI240@202004231200.uf\n",
      "...>>>กรองสัญญาณรบกวน ด้วยการใช้ SNR ใช้ gatefilter...\n",
      "...>>>ปรับแก้ค่า differential phase fields...\n"
     ]
    },
    {
     "name": "stderr",
     "output_type": "stream",
     "text": [
      "C:\\Users\\Admin\\anaconda3\\envs\\pyart\\lib\\site-packages\\numpy\\core\\fromnumeric.py:758: UserWarning: Warning: 'partition' will ignore the 'mask' of the MaskedArray.\n",
      "  a.partition(kth, axis=axis, kind=kind, order=order)\n"
     ]
    },
    {
     "name": "stdout",
     "output_type": "stream",
     "text": [
      "...>>>ปรับแก้ค่า differential phase fields...\n"
     ]
    },
    {
     "name": "stderr",
     "output_type": "stream",
     "text": [
      "C:\\Users\\Admin\\anaconda3\\envs\\pyart\\lib\\site-packages\\pyart\\correct\\phase_proc.py:170: RuntimeWarning: invalid value encountered in sqrt\n",
      "  _noise = smooth_and_trim(np.sqrt((line - signal) ** 2), window_len=wl)\n",
      "C:\\Users\\Admin\\anaconda3\\envs\\pyart\\lib\\site-packages\\pyart\\correct\\phase_proc.py:171: RuntimeWarning: divide by zero encountered in true_divide\n",
      "  return abs(signal) / _noise\n",
      "C:\\Users\\Admin\\anaconda3\\envs\\pyart\\lib\\site-packages\\pyart\\correct\\phase_proc.py:1154: DeprecationWarning: Please use `convolve1d` from the `scipy.ndimage` namespace, the `scipy.ndimage.filters` namespace is deprecated.\n",
      "  kdp = (scipy.ndimage.filters.convolve1d(proc_ph['data'], sobel, axis=1) /\n",
      "C:\\Users\\Admin\\anaconda3\\envs\\pyart\\lib\\site-packages\\numpy\\core\\fromnumeric.py:3474: RuntimeWarning: Mean of empty slice.\n",
      "  return _methods._mean(a, axis=axis, dtype=dtype,\n",
      "C:\\Users\\Admin\\anaconda3\\envs\\pyart\\lib\\site-packages\\numpy\\core\\_methods.py:189: RuntimeWarning: invalid value encountered in double_scalars\n",
      "  ret = ret.dtype.type(ret / rcount)\n",
      "C:\\Users\\Admin\\anaconda3\\envs\\pyart\\lib\\site-packages\\pyart\\correct\\attenuation.py:933: RuntimeWarning: overflow encountered in power\n",
      "  reflectivity_linear = 10.0 ** (0.1 * beta * sm_refl)\n",
      "C:\\Users\\Admin\\anaconda3\\envs\\pyart\\lib\\site-packages\\pyart\\correct\\attenuation.py:940: RuntimeWarning: invalid value encountered in true_divide\n",
      "  reflectivity_linear * self_cons_number /\n"
     ]
    },
    {
     "name": "stdout",
     "output_type": "stream",
     "text": [
      "...>>>ปรับแก้ attenuation correction of reflectivity...\n",
      "...>>>จำแนกชนิดหยาดน้ำฟ้า HID/HCA...\n",
      "...>>>สร้างกริด 3 D หรือ gridding แล้ว export ผลการจำแนกไปสู่ Geotif...\n",
      "#####################################\n",
      "#####################################\n",
      "\n",
      "1 ...> processing ..... ./0data/0Hail_CRI23Apr2020/CRI240@202004231215.uf\n",
      "...>>>กรองสัญญาณรบกวน ด้วยการใช้ SNR ใช้ gatefilter...\n",
      "...>>>ปรับแก้ค่า differential phase fields...\n"
     ]
    },
    {
     "name": "stderr",
     "output_type": "stream",
     "text": [
      "C:\\Users\\Admin\\anaconda3\\envs\\pyart\\lib\\site-packages\\numpy\\core\\fromnumeric.py:758: UserWarning: Warning: 'partition' will ignore the 'mask' of the MaskedArray.\n",
      "  a.partition(kth, axis=axis, kind=kind, order=order)\n"
     ]
    },
    {
     "name": "stdout",
     "output_type": "stream",
     "text": [
      "...>>>ปรับแก้ค่า differential phase fields...\n"
     ]
    },
    {
     "name": "stderr",
     "output_type": "stream",
     "text": [
      "C:\\Users\\Admin\\anaconda3\\envs\\pyart\\lib\\site-packages\\pyart\\correct\\phase_proc.py:170: RuntimeWarning: invalid value encountered in sqrt\n",
      "  _noise = smooth_and_trim(np.sqrt((line - signal) ** 2), window_len=wl)\n",
      "C:\\Users\\Admin\\anaconda3\\envs\\pyart\\lib\\site-packages\\pyart\\correct\\phase_proc.py:171: RuntimeWarning: divide by zero encountered in true_divide\n",
      "  return abs(signal) / _noise\n",
      "C:\\Users\\Admin\\anaconda3\\envs\\pyart\\lib\\site-packages\\pyart\\correct\\phase_proc.py:1154: DeprecationWarning: Please use `convolve1d` from the `scipy.ndimage` namespace, the `scipy.ndimage.filters` namespace is deprecated.\n",
      "  kdp = (scipy.ndimage.filters.convolve1d(proc_ph['data'], sobel, axis=1) /\n"
     ]
    },
    {
     "name": "stdout",
     "output_type": "stream",
     "text": [
      "...>>>ปรับแก้ attenuation correction of reflectivity...\n",
      "...>>>จำแนกชนิดหยาดน้ำฟ้า HID/HCA...\n",
      "...>>>สร้างกริด 3 D หรือ gridding แล้ว export ผลการจำแนกไปสู่ Geotif...\n",
      "#####################################\n",
      "#####################################\n",
      "\n",
      "2 ...> processing ..... ./0data/0Hail_CRI23Apr2020/CRI240@202004231230.uf\n",
      "...>>>กรองสัญญาณรบกวน ด้วยการใช้ SNR ใช้ gatefilter...\n",
      "...>>>ปรับแก้ค่า differential phase fields...\n"
     ]
    },
    {
     "name": "stderr",
     "output_type": "stream",
     "text": [
      "C:\\Users\\Admin\\anaconda3\\envs\\pyart\\lib\\site-packages\\numpy\\core\\fromnumeric.py:758: UserWarning: Warning: 'partition' will ignore the 'mask' of the MaskedArray.\n",
      "  a.partition(kth, axis=axis, kind=kind, order=order)\n"
     ]
    },
    {
     "name": "stdout",
     "output_type": "stream",
     "text": [
      "...>>>ปรับแก้ค่า differential phase fields...\n"
     ]
    },
    {
     "name": "stderr",
     "output_type": "stream",
     "text": [
      "C:\\Users\\Admin\\anaconda3\\envs\\pyart\\lib\\site-packages\\pyart\\correct\\phase_proc.py:170: RuntimeWarning: invalid value encountered in sqrt\n",
      "  _noise = smooth_and_trim(np.sqrt((line - signal) ** 2), window_len=wl)\n",
      "C:\\Users\\Admin\\anaconda3\\envs\\pyart\\lib\\site-packages\\pyart\\correct\\phase_proc.py:171: RuntimeWarning: divide by zero encountered in true_divide\n",
      "  return abs(signal) / _noise\n",
      "C:\\Users\\Admin\\anaconda3\\envs\\pyart\\lib\\site-packages\\pyart\\correct\\phase_proc.py:1154: DeprecationWarning: Please use `convolve1d` from the `scipy.ndimage` namespace, the `scipy.ndimage.filters` namespace is deprecated.\n",
      "  kdp = (scipy.ndimage.filters.convolve1d(proc_ph['data'], sobel, axis=1) /\n",
      "C:\\Users\\Admin\\anaconda3\\envs\\pyart\\lib\\site-packages\\pyart\\correct\\attenuation.py:933: RuntimeWarning: overflow encountered in power\n",
      "  reflectivity_linear = 10.0 ** (0.1 * beta * sm_refl)\n",
      "C:\\Users\\Admin\\anaconda3\\envs\\pyart\\lib\\site-packages\\pyart\\correct\\attenuation.py:940: RuntimeWarning: invalid value encountered in true_divide\n",
      "  reflectivity_linear * self_cons_number /\n"
     ]
    },
    {
     "name": "stdout",
     "output_type": "stream",
     "text": [
      "...>>>ปรับแก้ attenuation correction of reflectivity...\n",
      "...>>>จำแนกชนิดหยาดน้ำฟ้า HID/HCA...\n",
      "...>>>สร้างกริด 3 D หรือ gridding แล้ว export ผลการจำแนกไปสู่ Geotif...\n",
      "#####################################\n",
      "#####################################\n",
      "\n",
      "3 ...> processing ..... ./0data/0Hail_CRI23Apr2020/CRI240@202004231245.uf\n",
      "...>>>กรองสัญญาณรบกวน ด้วยการใช้ SNR ใช้ gatefilter...\n",
      "...>>>ปรับแก้ค่า differential phase fields...\n"
     ]
    },
    {
     "name": "stderr",
     "output_type": "stream",
     "text": [
      "C:\\Users\\Admin\\anaconda3\\envs\\pyart\\lib\\site-packages\\numpy\\core\\fromnumeric.py:758: UserWarning: Warning: 'partition' will ignore the 'mask' of the MaskedArray.\n",
      "  a.partition(kth, axis=axis, kind=kind, order=order)\n"
     ]
    },
    {
     "name": "stdout",
     "output_type": "stream",
     "text": [
      "...>>>ปรับแก้ค่า differential phase fields...\n"
     ]
    },
    {
     "name": "stderr",
     "output_type": "stream",
     "text": [
      "C:\\Users\\Admin\\anaconda3\\envs\\pyart\\lib\\site-packages\\pyart\\correct\\phase_proc.py:170: RuntimeWarning: invalid value encountered in sqrt\n",
      "  _noise = smooth_and_trim(np.sqrt((line - signal) ** 2), window_len=wl)\n",
      "C:\\Users\\Admin\\anaconda3\\envs\\pyart\\lib\\site-packages\\pyart\\correct\\phase_proc.py:171: RuntimeWarning: divide by zero encountered in true_divide\n",
      "  return abs(signal) / _noise\n",
      "C:\\Users\\Admin\\anaconda3\\envs\\pyart\\lib\\site-packages\\pyart\\correct\\phase_proc.py:1154: DeprecationWarning: Please use `convolve1d` from the `scipy.ndimage` namespace, the `scipy.ndimage.filters` namespace is deprecated.\n",
      "  kdp = (scipy.ndimage.filters.convolve1d(proc_ph['data'], sobel, axis=1) /\n"
     ]
    },
    {
     "name": "stdout",
     "output_type": "stream",
     "text": [
      "...>>>ปรับแก้ attenuation correction of reflectivity...\n",
      "...>>>จำแนกชนิดหยาดน้ำฟ้า HID/HCA...\n",
      "...>>>สร้างกริด 3 D หรือ gridding แล้ว export ผลการจำแนกไปสู่ Geotif...\n",
      "#####################################\n",
      "#####################################\n",
      "\n"
     ]
    }
   ],
   "source": [
    "# simulated sounding from ERA5\n",
    "sndfile = './0output/0reanalysisData/era5_23042020_0000utc_wyoming.txt'\n",
    "\n",
    "\n",
    "for i, file in enumerate(files):\n",
    "    print(i, '...> processing .....', file)\n",
    "    radar = pyart.io.read(file)\n",
    "    fn = './0output/0geotif_cappi/'+file[-15::][0:-3]+'.tif'\n",
    "    #print('fn: ', fn)\n",
    "    \n",
    "    #1.preprocessing radar moments\n",
    "    preprocess_radar_moments(radar)\n",
    "    \n",
    "    #2.classify hydrometeors\n",
    "    classify_precipitation(radar, sndfile,fn)\n",
    "\n",
    "    print('#####################################')\n",
    "    print('#####################################')\n",
    "    print('')\n",
    "    #break\n",
    "    \n"
   ]
  },
  {
   "cell_type": "code",
   "execution_count": null,
   "id": "53426e0e",
   "metadata": {},
   "outputs": [],
   "source": []
  }
 ],
 "metadata": {
  "kernelspec": {
   "display_name": "Python 3 (ipykernel)",
   "language": "python",
   "name": "python3"
  },
  "language_info": {
   "codemirror_mode": {
    "name": "ipython",
    "version": 3
   },
   "file_extension": ".py",
   "mimetype": "text/x-python",
   "name": "python",
   "nbconvert_exporter": "python",
   "pygments_lexer": "ipython3",
   "version": "3.10.4"
  }
 },
 "nbformat": 4,
 "nbformat_minor": 5
}
